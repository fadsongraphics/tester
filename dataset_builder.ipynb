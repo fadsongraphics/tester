{
 "cells": [
  {
   "cell_type": "markdown",
   "metadata": {},
   "source": [
    "# Convert video to Image"
   ]
  },
  {
   "cell_type": "code",
   "execution_count": 1,
   "metadata": {},
   "outputs": [],
   "source": [
    "import os\n",
    "import cv2"
   ]
  },
  {
   "cell_type": "code",
   "execution_count": 2,
   "metadata": {},
   "outputs": [],
   "source": [
    "rotate_video = True # rotate saved image 90* clockwise\n",
    "frame_delta = 5 # save image for each x frame\n",
    "max_sample = 100 # maximum number of image sample created per video (per class)"
   ]
  },
  {
   "cell_type": "code",
   "execution_count": 3,
   "metadata": {},
   "outputs": [
    {
     "name": "stdout",
     "output_type": "stream",
     "text": [
      "finish processing 100 images batman...\n",
      "finish processing 100 images ironman...\n"
     ]
    }
   ],
   "source": [
    "labels = []\n",
    "for name in os.listdir(\"videos\"):\n",
    "    if name.endswith(\".mp4\") :\n",
    "        video_name = name.split(\".\")[0]\n",
    "        labels.append(video_name)\n",
    "\n",
    "        cap = cv2.VideoCapture('videos/' + name)\n",
    "\n",
    "        counter = 0\n",
    "        while cap.isOpened():\n",
    "            ret, frame = cap.read()\n",
    "            if not ret:\n",
    "                break\n",
    "            if cap.get(cv2.CAP_PROP_POS_FRAMES) % frame_delta == 0 :\n",
    "                if rotate_video :\n",
    "                    frame = cv2.rotate(frame, cv2.ROTATE_90_CLOCKWISE)\n",
    "                cv2.imwrite(\"dataset/images/%s_%d.jpg\" % (video_name, counter), frame)\n",
    "                counter += 1\n",
    "\n",
    "            if counter >= max_sample :\n",
    "                break\n",
    "\n",
    "        print(\"finish processing %d images %s...\" % (counter, video_name))\n",
    "        cap.release()"
   ]
  },
  {
   "cell_type": "markdown",
   "metadata": {},
   "source": [
    "# Annotate Dataset"
   ]
  },
  {
   "cell_type": "markdown",
   "metadata": {},
   "source": [
    "- Download & Install `Git` :\n",
    "    - https://git-scm.com/downloads"
   ]
  },
  {
   "cell_type": "markdown",
   "metadata": {},
   "source": [
    "- Clone `labelImg` repository using git (***if not exist in dir & run only once***)\n",
    "    - or just download repo as zip file. (~ 240MB)"
   ]
  },
  {
   "cell_type": "code",
   "execution_count": null,
   "metadata": {},
   "outputs": [],
   "source": [
    "! git clone https://github.com/tzutalin/labelImg.git"
   ]
  },
  {
   "cell_type": "markdown",
   "metadata": {},
   "source": [
    "- install dependency (***run only once***)"
   ]
  },
  {
   "cell_type": "code",
   "execution_count": 4,
   "metadata": {
    "scrolled": true
   },
   "outputs": [
    {
     "name": "stdout",
     "output_type": "stream",
     "text": [
      "Collecting package metadata (current_repodata.json): ...working... done\n",
      "Solving environment: ...working... done\n",
      "\n",
      "## Package Plan ##\n",
      "\n",
      "  environment location: C:\\Users\\yunus\\Anaconda3\\envs\\CVDL\n",
      "\n",
      "  added / updated specs:\n",
      "    - pyqt=5\n",
      "\n",
      "\n",
      "The following packages will be UPDATED:\n",
      "\n",
      "  ca-certificates                      2020.12.8-haa95532_0 --> 2021.1.19-haa95532_0\n",
      "\n",
      "\n",
      "Preparing transaction: ...working... done\n",
      "Verifying transaction: ...working... done\n",
      "Executing transaction: ...working... done\n",
      "Collecting package metadata (current_repodata.json): ...working... done\n",
      "Solving environment: ...working... done\n",
      "\n",
      "## Package Plan ##\n",
      "\n",
      "  environment location: C:\\Users\\yunus\\Anaconda3\\envs\\CVDL\n",
      "\n",
      "  added / updated specs:\n",
      "    - lxml\n",
      "\n",
      "\n",
      "The following packages will be downloaded:\n",
      "\n",
      "    package                    |            build\n",
      "    ---------------------------|-----------------\n",
      "    lxml-4.6.1                 |   py36h1350720_0         1.1 MB  anaconda\n",
      "    openssl-1.1.1h             |       he774522_0         5.8 MB  anaconda\n",
      "    ------------------------------------------------------------\n",
      "                                           Total:         6.8 MB\n",
      "\n",
      "The following NEW packages will be INSTALLED:\n",
      "\n",
      "  libiconv           anaconda/win-64::libiconv-1.15-vc14h29686d3_5\n",
      "  libxml2            anaconda/win-64::libxml2-2.9.10-hb89e7f3_3\n",
      "  libxslt            anaconda/win-64::libxslt-1.1.34-he774522_0\n",
      "  lxml               anaconda/win-64::lxml-4.6.1-py36h1350720_0\n",
      "\n",
      "The following packages will be SUPERSEDED by a higher-priority channel:\n",
      "\n",
      "  ca-certificates    pkgs/main::ca-certificates-2021.1.19-~ --> anaconda::ca-certificates-2020.10.14-0\n",
      "  certifi            pkgs/main::certifi-2020.12.5-py36haa9~ --> anaconda::certifi-2020.6.20-py36_0\n",
      "  openssl              pkgs/main::openssl-1.1.1i-h2bbff1b_0 --> anaconda::openssl-1.1.1h-he774522_0\n",
      "\n",
      "\n",
      "\n",
      "Downloading and Extracting Packages\n",
      "\n",
      "openssl-1.1.1h       | 5.8 MB    |            |   0% \n",
      "openssl-1.1.1h       | 5.8 MB    |            |   0% \n",
      "openssl-1.1.1h       | 5.8 MB    |            |   1% \n",
      "openssl-1.1.1h       | 5.8 MB    |            |   1% \n",
      "openssl-1.1.1h       | 5.8 MB    | 1          |   1% \n",
      "openssl-1.1.1h       | 5.8 MB    | 1          |   2% \n",
      "openssl-1.1.1h       | 5.8 MB    | 1          |   2% \n",
      "openssl-1.1.1h       | 5.8 MB    | 2          |   2% \n",
      "openssl-1.1.1h       | 5.8 MB    | 2          |   2% \n",
      "openssl-1.1.1h       | 5.8 MB    | 2          |   3% \n",
      "openssl-1.1.1h       | 5.8 MB    | 2          |   3% \n",
      "openssl-1.1.1h       | 5.8 MB    | 3          |   3% \n",
      "openssl-1.1.1h       | 5.8 MB    | 3          |   4% \n",
      "openssl-1.1.1h       | 5.8 MB    | 3          |   4% \n",
      "openssl-1.1.1h       | 5.8 MB    | 4          |   4% \n",
      "openssl-1.1.1h       | 5.8 MB    | 4          |   4% \n",
      "openssl-1.1.1h       | 5.8 MB    | 4          |   5% \n",
      "openssl-1.1.1h       | 5.8 MB    | 5          |   5% \n",
      "openssl-1.1.1h       | 5.8 MB    | 5          |   5% \n",
      "openssl-1.1.1h       | 5.8 MB    | 5          |   6% \n",
      "openssl-1.1.1h       | 5.8 MB    | 5          |   6% \n",
      "openssl-1.1.1h       | 5.8 MB    | 6          |   6% \n",
      "openssl-1.1.1h       | 5.8 MB    | 6          |   7% \n",
      "openssl-1.1.1h       | 5.8 MB    | 6          |   7% \n",
      "openssl-1.1.1h       | 5.8 MB    | 7          |   7% \n",
      "openssl-1.1.1h       | 5.8 MB    | 7          |   8% \n",
      "openssl-1.1.1h       | 5.8 MB    | 7          |   8% \n",
      "openssl-1.1.1h       | 5.8 MB    | 8          |   8% \n",
      "openssl-1.1.1h       | 5.8 MB    | 8          |   9% \n",
      "openssl-1.1.1h       | 5.8 MB    | 8          |   9% \n",
      "openssl-1.1.1h       | 5.8 MB    | 9          |   9% \n",
      "openssl-1.1.1h       | 5.8 MB    | 9          |  10% \n",
      "openssl-1.1.1h       | 5.8 MB    | #          |  10% \n",
      "openssl-1.1.1h       | 5.8 MB    | #          |  11% \n",
      "openssl-1.1.1h       | 5.8 MB    | #1         |  11% \n",
      "openssl-1.1.1h       | 5.8 MB    | #1         |  12% \n",
      "openssl-1.1.1h       | 5.8 MB    | #2         |  12% \n",
      "openssl-1.1.1h       | 5.8 MB    | #3         |  13% \n",
      "openssl-1.1.1h       | 5.8 MB    | #3         |  14% \n",
      "openssl-1.1.1h       | 5.8 MB    | #3         |  14% \n",
      "openssl-1.1.1h       | 5.8 MB    | #4         |  14% \n",
      "openssl-1.1.1h       | 5.8 MB    | #4         |  14% \n",
      "openssl-1.1.1h       | 5.8 MB    | #4         |  15% \n",
      "openssl-1.1.1h       | 5.8 MB    | #5         |  15% \n",
      "openssl-1.1.1h       | 5.8 MB    | #5         |  15% \n",
      "openssl-1.1.1h       | 5.8 MB    | #5         |  16% \n",
      "openssl-1.1.1h       | 5.8 MB    | #6         |  16% \n",
      "openssl-1.1.1h       | 5.8 MB    | #6         |  16% \n",
      "openssl-1.1.1h       | 5.8 MB    | #6         |  17% \n",
      "openssl-1.1.1h       | 5.8 MB    | #7         |  17% \n",
      "openssl-1.1.1h       | 5.8 MB    | #7         |  17% \n",
      "openssl-1.1.1h       | 5.8 MB    | #7         |  18% \n",
      "openssl-1.1.1h       | 5.8 MB    | #7         |  18% \n",
      "openssl-1.1.1h       | 5.8 MB    | #8         |  18% \n",
      "openssl-1.1.1h       | 5.8 MB    | #8         |  18% \n",
      "openssl-1.1.1h       | 5.8 MB    | #8         |  19% \n",
      "openssl-1.1.1h       | 5.8 MB    | #9         |  19% \n",
      "openssl-1.1.1h       | 5.8 MB    | #9         |  20% \n",
      "openssl-1.1.1h       | 5.8 MB    | ##         |  20% \n",
      "openssl-1.1.1h       | 5.8 MB    | ##         |  21% \n",
      "openssl-1.1.1h       | 5.8 MB    | ##         |  21% \n",
      "openssl-1.1.1h       | 5.8 MB    | ##1        |  21% \n",
      "openssl-1.1.1h       | 5.8 MB    | ##2        |  22% \n",
      "openssl-1.1.1h       | 5.8 MB    | ##2        |  23% \n",
      "openssl-1.1.1h       | 5.8 MB    | ##3        |  23% \n",
      "openssl-1.1.1h       | 5.8 MB    | ##3        |  23% \n",
      "openssl-1.1.1h       | 5.8 MB    | ##3        |  24% \n",
      "openssl-1.1.1h       | 5.8 MB    | ##3        |  24% \n",
      "openssl-1.1.1h       | 5.8 MB    | ##4        |  24% \n",
      "openssl-1.1.1h       | 5.8 MB    | ##4        |  24% \n",
      "openssl-1.1.1h       | 5.8 MB    | ##4        |  25% \n",
      "openssl-1.1.1h       | 5.8 MB    | ##4        |  25% \n",
      "openssl-1.1.1h       | 5.8 MB    | ##5        |  25% \n",
      "openssl-1.1.1h       | 5.8 MB    | ##5        |  26% \n",
      "openssl-1.1.1h       | 5.8 MB    | ##6        |  26% \n",
      "openssl-1.1.1h       | 5.8 MB    | ##6        |  26% \n",
      "openssl-1.1.1h       | 5.8 MB    | ##6        |  27% \n",
      "openssl-1.1.1h       | 5.8 MB    | ##6        |  27% \n",
      "openssl-1.1.1h       | 5.8 MB    | ##7        |  27% \n",
      "openssl-1.1.1h       | 5.8 MB    | ##7        |  28% \n",
      "openssl-1.1.1h       | 5.8 MB    | ##8        |  28% \n",
      "openssl-1.1.1h       | 5.8 MB    | ##8        |  29% \n",
      "openssl-1.1.1h       | 5.8 MB    | ##9        |  29% \n",
      "openssl-1.1.1h       | 5.8 MB    | ##9        |  30% \n",
      "openssl-1.1.1h       | 5.8 MB    | ###        |  30% \n",
      "openssl-1.1.1h       | 5.8 MB    | ###        |  31% \n",
      "openssl-1.1.1h       | 5.8 MB    | ###1       |  32% \n",
      "openssl-1.1.1h       | 5.8 MB    | ###2       |  32% \n",
      "openssl-1.1.1h       | 5.8 MB    | ###2       |  33% \n",
      "openssl-1.1.1h       | 5.8 MB    | ###3       |  33% \n",
      "openssl-1.1.1h       | 5.8 MB    | ###3       |  34% \n",
      "openssl-1.1.1h       | 5.8 MB    | ###4       |  34% \n",
      "openssl-1.1.1h       | 5.8 MB    | ###4       |  35% \n",
      "openssl-1.1.1h       | 5.8 MB    | ###5       |  35% \n",
      "openssl-1.1.1h       | 5.8 MB    | ###5       |  36% \n",
      "openssl-1.1.1h       | 5.8 MB    | ###6       |  36% \n",
      "openssl-1.1.1h       | 5.8 MB    | ###6       |  37% \n",
      "openssl-1.1.1h       | 5.8 MB    | ###7       |  37% \n",
      "openssl-1.1.1h       | 5.8 MB    | ###8       |  38% \n",
      "openssl-1.1.1h       | 5.8 MB    | ###8       |  39% \n",
      "openssl-1.1.1h       | 5.8 MB    | ###9       |  39% \n",
      "openssl-1.1.1h       | 5.8 MB    | ###9       |  40% \n",
      "openssl-1.1.1h       | 5.8 MB    | ####       |  40% \n",
      "openssl-1.1.1h       | 5.8 MB    | ####       |  41% \n",
      "openssl-1.1.1h       | 5.8 MB    | ####1      |  41% \n",
      "openssl-1.1.1h       | 5.8 MB    | ####1      |  42% \n",
      "openssl-1.1.1h       | 5.8 MB    | ####2      |  42% \n",
      "openssl-1.1.1h       | 5.8 MB    | ####2      |  43% \n",
      "openssl-1.1.1h       | 5.8 MB    | ####3      |  43% \n",
      "openssl-1.1.1h       | 5.8 MB    | ####4      |  44% \n",
      "openssl-1.1.1h       | 5.8 MB    | ####4      |  45% \n",
      "openssl-1.1.1h       | 5.8 MB    | ####4      |  45% \n",
      "openssl-1.1.1h       | 5.8 MB    | ####5      |  45% \n",
      "openssl-1.1.1h       | 5.8 MB    | ####5      |  46% \n",
      "openssl-1.1.1h       | 5.8 MB    | ####6      |  46% \n",
      "openssl-1.1.1h       | 5.8 MB    | ####7      |  47% \n",
      "openssl-1.1.1h       | 5.8 MB    | ####7      |  47% \n",
      "openssl-1.1.1h       | 5.8 MB    | ####7      |  48% \n",
      "openssl-1.1.1h       | 5.8 MB    | ####8      |  48% \n",
      "openssl-1.1.1h       | 5.8 MB    | ####8      |  48% \n",
      "openssl-1.1.1h       | 5.8 MB    | ####8      |  49% \n",
      "openssl-1.1.1h       | 5.8 MB    | ####9      |  49% \n",
      "openssl-1.1.1h       | 5.8 MB    | ####9      |  49% \n",
      "openssl-1.1.1h       | 5.8 MB    | ####9      |  50% \n",
      "openssl-1.1.1h       | 5.8 MB    | #####      |  50% \n",
      "openssl-1.1.1h       | 5.8 MB    | #####      |  51% \n",
      "openssl-1.1.1h       | 5.8 MB    | #####      |  51% \n",
      "openssl-1.1.1h       | 5.8 MB    | #####1     |  51% \n",
      "openssl-1.1.1h       | 5.8 MB    | #####1     |  52% \n",
      "openssl-1.1.1h       | 5.8 MB    | #####2     |  52% \n",
      "openssl-1.1.1h       | 5.8 MB    | #####2     |  53% \n",
      "openssl-1.1.1h       | 5.8 MB    | #####2     |  53% \n",
      "openssl-1.1.1h       | 5.8 MB    | #####3     |  54% \n",
      "openssl-1.1.1h       | 5.8 MB    | #####4     |  54% \n",
      "openssl-1.1.1h       | 5.8 MB    | #####4     |  55% \n",
      "openssl-1.1.1h       | 5.8 MB    | #####5     |  55% \n",
      "openssl-1.1.1h       | 5.8 MB    | #####5     |  56% \n",
      "openssl-1.1.1h       | 5.8 MB    | #####6     |  57% \n",
      "openssl-1.1.1h       | 5.8 MB    | #####6     |  57% \n",
      "openssl-1.1.1h       | 5.8 MB    | #####7     |  57% \n",
      "openssl-1.1.1h       | 5.8 MB    | #####7     |  57% \n",
      "openssl-1.1.1h       | 5.8 MB    | #####7     |  58% \n",
      "openssl-1.1.1h       | 5.8 MB    | #####8     |  58% \n",
      "openssl-1.1.1h       | 5.8 MB    | #####8     |  58% \n",
      "openssl-1.1.1h       | 5.8 MB    | #####8     |  59% \n",
      "openssl-1.1.1h       | 5.8 MB    | #####8     |  59% \n",
      "openssl-1.1.1h       | 5.8 MB    | #####9     |  59% \n",
      "openssl-1.1.1h       | 5.8 MB    | #####9     |  60% \n",
      "openssl-1.1.1h       | 5.8 MB    | #####9     |  60% \n",
      "openssl-1.1.1h       | 5.8 MB    | ######     |  60% \n",
      "openssl-1.1.1h       | 5.8 MB    | ######     |  61% \n",
      "openssl-1.1.1h       | 5.8 MB    | ######     |  61% \n",
      "openssl-1.1.1h       | 5.8 MB    | ######1    |  61% \n",
      "openssl-1.1.1h       | 5.8 MB    | ######1    |  61% \n",
      "openssl-1.1.1h       | 5.8 MB    | ######1    |  62% \n",
      "openssl-1.1.1h       | 5.8 MB    | ######2    |  62% \n",
      "openssl-1.1.1h       | 5.8 MB    | ######2    |  62% \n",
      "openssl-1.1.1h       | 5.8 MB    | ######2    |  63% \n",
      "openssl-1.1.1h       | 5.8 MB    | ######3    |  63% \n",
      "openssl-1.1.1h       | 5.8 MB    | ######3    |  64% \n",
      "openssl-1.1.1h       | 5.8 MB    | ######3    |  64% \n",
      "openssl-1.1.1h       | 5.8 MB    | ######4    |  64% \n",
      "openssl-1.1.1h       | 5.8 MB    | ######4    |  65% \n",
      "openssl-1.1.1h       | 5.8 MB    | ######4    |  65% \n",
      "openssl-1.1.1h       | 5.8 MB    | ######5    |  65% \n",
      "openssl-1.1.1h       | 5.8 MB    | ######5    |  65% \n",
      "openssl-1.1.1h       | 5.8 MB    | ######6    |  66% \n",
      "openssl-1.1.1h       | 5.8 MB    | ######6    |  67% \n",
      "openssl-1.1.1h       | 5.8 MB    | ######7    |  67% \n",
      "openssl-1.1.1h       | 5.8 MB    | ######7    |  68% \n",
      "openssl-1.1.1h       | 5.8 MB    | ######7    |  68% \n",
      "openssl-1.1.1h       | 5.8 MB    | ######8    |  68% \n",
      "openssl-1.1.1h       | 5.8 MB    | ######8    |  68% \n",
      "openssl-1.1.1h       | 5.8 MB    | ######8    |  69% \n",
      "openssl-1.1.1h       | 5.8 MB    | ######9    |  69% \n",
      "openssl-1.1.1h       | 5.8 MB    | ######9    |  69% \n",
      "openssl-1.1.1h       | 5.8 MB    | ######9    |  70% \n",
      "openssl-1.1.1h       | 5.8 MB    | #######    |  70% \n",
      "openssl-1.1.1h       | 5.8 MB    | #######    |  70% \n",
      "openssl-1.1.1h       | 5.8 MB    | #######    |  71% \n",
      "openssl-1.1.1h       | 5.8 MB    | #######    |  71% \n",
      "openssl-1.1.1h       | 5.8 MB    | #######1   |  71% \n",
      "openssl-1.1.1h       | 5.8 MB    | #######1   |  71% \n",
      "openssl-1.1.1h       | 5.8 MB    | #######1   |  72% \n",
      "openssl-1.1.1h       | 5.8 MB    | #######2   |  72% \n",
      "openssl-1.1.1h       | 5.8 MB    | #######2   |  72% \n",
      "openssl-1.1.1h       | 5.8 MB    | #######2   |  73% \n",
      "openssl-1.1.1h       | 5.8 MB    | #######2   |  73% \n",
      "openssl-1.1.1h       | 5.8 MB    | #######3   |  73% \n",
      "openssl-1.1.1h       | 5.8 MB    | #######3   |  73% \n",
      "openssl-1.1.1h       | 5.8 MB    | #######3   |  74% \n",
      "openssl-1.1.1h       | 5.8 MB    | #######3   |  74% \n",
      "openssl-1.1.1h       | 5.8 MB    | #######4   |  74% \n",
      "openssl-1.1.1h       | 5.8 MB    | #######4   |  74% \n",
      "openssl-1.1.1h       | 5.8 MB    | #######4   |  75% \n",
      "openssl-1.1.1h       | 5.8 MB    | #######5   |  75% \n",
      "openssl-1.1.1h       | 5.8 MB    | #######5   |  76% \n",
      "openssl-1.1.1h       | 5.8 MB    | #######6   |  76% \n",
      "openssl-1.1.1h       | 5.8 MB    | #######6   |  77% \n",
      "openssl-1.1.1h       | 5.8 MB    | #######7   |  77% \n",
      "openssl-1.1.1h       | 5.8 MB    | #######7   |  78% \n",
      "openssl-1.1.1h       | 5.8 MB    | #######8   |  78% \n",
      "openssl-1.1.1h       | 5.8 MB    | #######8   |  79% \n",
      "openssl-1.1.1h       | 5.8 MB    | #######8   |  79% \n",
      "openssl-1.1.1h       | 5.8 MB    | #######9   |  79% \n",
      "openssl-1.1.1h       | 5.8 MB    | #######9   |  79% \n",
      "openssl-1.1.1h       | 5.8 MB    | #######9   |  80% \n",
      "openssl-1.1.1h       | 5.8 MB    | #######9   |  80% \n",
      "openssl-1.1.1h       | 5.8 MB    | ########   |  80% \n",
      "openssl-1.1.1h       | 5.8 MB    | ########   |  81% \n",
      "openssl-1.1.1h       | 5.8 MB    | ########   |  81% \n",
      "openssl-1.1.1h       | 5.8 MB    | ########1  |  81% \n",
      "openssl-1.1.1h       | 5.8 MB    | ########1  |  82% \n",
      "openssl-1.1.1h       | 5.8 MB    | ########2  |  82% \n",
      "openssl-1.1.1h       | 5.8 MB    | ########2  |  83% \n",
      "openssl-1.1.1h       | 5.8 MB    | ########2  |  83% \n",
      "openssl-1.1.1h       | 5.8 MB    | ########3  |  83% \n",
      "openssl-1.1.1h       | 5.8 MB    | ########3  |  84% \n",
      "openssl-1.1.1h       | 5.8 MB    | ########4  |  84% \n",
      "openssl-1.1.1h       | 5.8 MB    | ########4  |  85% \n",
      "openssl-1.1.1h       | 5.8 MB    | ########4  |  85% \n",
      "openssl-1.1.1h       | 5.8 MB    | ########5  |  85% \n",
      "openssl-1.1.1h       | 5.8 MB    | ########5  |  85% \n",
      "openssl-1.1.1h       | 5.8 MB    | ########5  |  86% \n",
      "openssl-1.1.1h       | 5.8 MB    | ########5  |  86% \n",
      "openssl-1.1.1h       | 5.8 MB    | ########6  |  86% \n",
      "openssl-1.1.1h       | 5.8 MB    | ########6  |  87% \n",
      "openssl-1.1.1h       | 5.8 MB    | ########7  |  87% \n",
      "openssl-1.1.1h       | 5.8 MB    | ########8  |  88% \n",
      "openssl-1.1.1h       | 5.8 MB    | ########8  |  88% \n",
      "openssl-1.1.1h       | 5.8 MB    | ########8  |  89% \n",
      "openssl-1.1.1h       | 5.8 MB    | ########8  |  89% \n",
      "openssl-1.1.1h       | 5.8 MB    | ########9  |  89% \n",
      "openssl-1.1.1h       | 5.8 MB    | ########9  |  89% \n",
      "openssl-1.1.1h       | 5.8 MB    | ########9  |  90% \n",
      "openssl-1.1.1h       | 5.8 MB    | ########9  |  90% \n",
      "openssl-1.1.1h       | 5.8 MB    | #########  |  90% \n",
      "openssl-1.1.1h       | 5.8 MB    | #########  |  90% \n",
      "openssl-1.1.1h       | 5.8 MB    | #########1 |  91% \n",
      "openssl-1.1.1h       | 5.8 MB    | #########1 |  91% \n",
      "openssl-1.1.1h       | 5.8 MB    | #########1 |  92% \n",
      "openssl-1.1.1h       | 5.8 MB    | #########2 |  92% \n",
      "openssl-1.1.1h       | 5.8 MB    | #########2 |  93% \n",
      "openssl-1.1.1h       | 5.8 MB    | #########2 |  93% \n",
      "openssl-1.1.1h       | 5.8 MB    | #########3 |  93% \n",
      "openssl-1.1.1h       | 5.8 MB    | #########4 |  94% \n",
      "openssl-1.1.1h       | 5.8 MB    | #########4 |  94% \n",
      "openssl-1.1.1h       | 5.8 MB    | #########4 |  95% \n",
      "openssl-1.1.1h       | 5.8 MB    | #########4 |  95% \n",
      "openssl-1.1.1h       | 5.8 MB    | #########5 |  95% \n",
      "openssl-1.1.1h       | 5.8 MB    | #########5 |  96% \n",
      "openssl-1.1.1h       | 5.8 MB    | #########6 |  96% \n",
      "openssl-1.1.1h       | 5.8 MB    | #########6 |  97% \n",
      "openssl-1.1.1h       | 5.8 MB    | #########7 |  97% \n",
      "openssl-1.1.1h       | 5.8 MB    | #########7 |  98% \n",
      "openssl-1.1.1h       | 5.8 MB    | #########8 |  98% \n",
      "openssl-1.1.1h       | 5.8 MB    | #########8 |  99% \n",
      "openssl-1.1.1h       | 5.8 MB    | #########9 |  99% \n",
      "openssl-1.1.1h       | 5.8 MB    | #########9 | 100% \n",
      "openssl-1.1.1h       | 5.8 MB    | ########## | 100% \n",
      "\n",
      "lxml-4.6.1           | 1.1 MB    |            |   0% \n",
      "lxml-4.6.1           | 1.1 MB    | 1          |   1% \n",
      "lxml-4.6.1           | 1.1 MB    | 4          |   4% \n",
      "lxml-4.6.1           | 1.1 MB    | 5          |   6% \n",
      "lxml-4.6.1           | 1.1 MB    | 7          |   7% \n",
      "lxml-4.6.1           | 1.1 MB    | 8          |   9% \n",
      "lxml-4.6.1           | 1.1 MB    | #          |  10% \n",
      "lxml-4.6.1           | 1.1 MB    | #1         |  12% \n",
      "lxml-4.6.1           | 1.1 MB    | #4         |  15% \n",
      "lxml-4.6.1           | 1.1 MB    | #7         |  18% \n",
      "lxml-4.6.1           | 1.1 MB    | ##         |  20% \n",
      "lxml-4.6.1           | 1.1 MB    | ##1        |  22% \n",
      "lxml-4.6.1           | 1.1 MB    | ##3        |  23% \n",
      "lxml-4.6.1           | 1.1 MB    | ##4        |  25% \n",
      "lxml-4.6.1           | 1.1 MB    | ##6        |  26% \n",
      "lxml-4.6.1           | 1.1 MB    | ##7        |  28% \n",
      "lxml-4.6.1           | 1.1 MB    | ##9        |  29% \n",
      "lxml-4.6.1           | 1.1 MB    | ###2       |  32% \n",
      "lxml-4.6.1           | 1.1 MB    | ###3       |  34% \n",
      "lxml-4.6.1           | 1.1 MB    | ###5       |  35% \n",
      "lxml-4.6.1           | 1.1 MB    | ###7       |  38% \n",
      "lxml-4.6.1           | 1.1 MB    | ###9       |  39% \n",
      "lxml-4.6.1           | 1.1 MB    | ####       |  41% \n",
      "lxml-4.6.1           | 1.1 MB    | ####2      |  42% \n",
      "lxml-4.6.1           | 1.1 MB    | ####3      |  44% \n",
      "lxml-4.6.1           | 1.1 MB    | ####6      |  47% \n",
      "lxml-4.6.1           | 1.1 MB    | ####8      |  48% \n",
      "lxml-4.6.1           | 1.1 MB    | ####9      |  50% \n",
      "lxml-4.6.1           | 1.1 MB    | #####1     |  51% \n",
      "lxml-4.6.1           | 1.1 MB    | #####2     |  53% \n",
      "lxml-4.6.1           | 1.1 MB    | #####5     |  55% \n",
      "lxml-4.6.1           | 1.1 MB    | #####8     |  58% \n",
      "lxml-4.6.1           | 1.1 MB    | ######1    |  61% \n",
      "lxml-4.6.1           | 1.1 MB    | ######2    |  63% \n",
      "lxml-4.6.1           | 1.1 MB    | ######5    |  66% \n",
      "lxml-4.6.1           | 1.1 MB    | ######7    |  67% \n",
      "lxml-4.6.1           | 1.1 MB    | ######8    |  69% \n",
      "lxml-4.6.1           | 1.1 MB    | #######    |  70% \n",
      "lxml-4.6.1           | 1.1 MB    | #######3   |  73% \n",
      "lxml-4.6.1           | 1.1 MB    | #######4   |  74% \n",
      "lxml-4.6.1           | 1.1 MB    | #######5   |  76% \n",
      "lxml-4.6.1           | 1.1 MB    | #######7   |  77% \n",
      "lxml-4.6.1           | 1.1 MB    | #######8   |  79% \n",
      "lxml-4.6.1           | 1.1 MB    | ########   |  80% \n",
      "lxml-4.6.1           | 1.1 MB    | ########1  |  82% \n",
      "lxml-4.6.1           | 1.1 MB    | ########4  |  85% \n",
      "lxml-4.6.1           | 1.1 MB    | ########9  |  89% \n",
      "lxml-4.6.1           | 1.1 MB    | #########  |  91% \n",
      "lxml-4.6.1           | 1.1 MB    | #########3 |  93% \n",
      "lxml-4.6.1           | 1.1 MB    | #########6 |  96% \n",
      "lxml-4.6.1           | 1.1 MB    | #########9 |  99% \n",
      "lxml-4.6.1           | 1.1 MB    | ########## | 100% \n",
      "Preparing transaction: ...working... done\n",
      "Verifying transaction: ...working... done\n",
      "Executing transaction: ...working... done\n"
     ]
    }
   ],
   "source": [
    "! conda install pyqt=5 -y\n",
    "! conda install -c anaconda lxml -y"
   ]
  },
  {
   "cell_type": "markdown",
   "metadata": {},
   "source": [
    "- build labelImg (***run only once***)"
   ]
  },
  {
   "cell_type": "code",
   "execution_count": 5,
   "metadata": {},
   "outputs": [
    {
     "name": "stdout",
     "output_type": "stream",
     "text": [
      "C:\\Users\\yunus\\Documents\\GitHub\\ObjectDetection-Tensorflow\\labelImg\n",
      "C:\\Users\\yunus\\Documents\\GitHub\\ObjectDetection-Tensorflow\n"
     ]
    }
   ],
   "source": [
    "%cd labelImg\n",
    "\n",
    "! pyrcc5 -o libs/resources.py resources.qrc\n",
    "\n",
    "%cd .."
   ]
  },
  {
   "cell_type": "markdown",
   "metadata": {},
   "source": [
    "- run `lableImg`"
   ]
  },
  {
   "cell_type": "code",
   "execution_count": 4,
   "metadata": {},
   "outputs": [
    {
     "name": "stdout",
     "output_type": "stream",
     "text": [
      "Image:C:\\Users\\yunus\\Documents\\GitHub\\ObjectDetection-Tensorflow\\dataset\\images\\batman_0.jpg -> Annotation:C:/Users/yunus/Documents/GitHub/ObjectDetection-Tensorflow/dataset/images/batman_0.xml\n",
      "Image:C:\\Users\\yunus\\Documents\\GitHub\\ObjectDetection-Tensorflow\\dataset\\images\\batman_1.jpg -> Annotation:C:/Users/yunus/Documents/GitHub/ObjectDetection-Tensorflow/dataset/images/batman_1.xml\n"
     ]
    },
    {
     "name": "stderr",
     "output_type": "stream",
     "text": [
      "qt.qpa.fonts: Unable to open default EUDC font: \"EUDC.TTE\"\n"
     ]
    }
   ],
   "source": [
    "! python labelImg/labelImg.py"
   ]
  },
  {
   "cell_type": "markdown",
   "metadata": {},
   "source": [
    "- open dir `images/` in this project\n",
    "- set annotation type to `Yolo` <br>\n",
    "![](resource/labelimg.png)\n",
    "- annotate image dataset"
   ]
  },
  {
   "cell_type": "markdown",
   "metadata": {},
   "source": [
    "### **[NOTE!]** \n",
    "- if you don't have a dataset for this tutorial, you can use the **Batman & Ironman dataset (yolo)** from the following link https://drive.google.com/file/d/1UASv-heGjnBB73jaT_pwhuqf7x3o-jEt/view?usp=sharing\n",
    "- extract that zip file, and copy all extracted **image** & **.xml** file to `dataset/images/` folder this project."
   ]
  },
  {
   "cell_type": "markdown",
   "metadata": {},
   "source": [
    "# Split Dataset"
   ]
  },
  {
   "cell_type": "code",
   "execution_count": 1,
   "metadata": {},
   "outputs": [],
   "source": [
    "split_size = 0.2 # 20% for test dataset "
   ]
  },
  {
   "cell_type": "code",
   "execution_count": 2,
   "metadata": {},
   "outputs": [
    {
     "name": "stdout",
     "output_type": "stream",
     "text": [
      "`train/` and `test/` dir already exist!\n"
     ]
    },
    {
     "name": "stdin",
     "output_type": "stream",
     "text": [
      "do you want to delete `train/` and `test/` dir content? [y/n] n\n"
     ]
    }
   ],
   "source": [
    "import os\n",
    "import shutil\n",
    "\n",
    "try :\n",
    "    os.mkdir(\"dataset/images/train\")\n",
    "    os.mkdir(\"dataset/images/test\")\n",
    "except :\n",
    "    print(\"`train/` and `test/` dir already exist!\")\n",
    "    if input(\"do you want to delete `train/` and `test/` dir content? [y/n]\") == 'y' :\n",
    "        shutil.rmtree(\"dataset/images/train\")\n",
    "        shutil.rmtree(\"dataset/images/test\")\n",
    "        os.mkdir(\"dataset/images/train\")\n",
    "        os.mkdir(\"dataset/images/test\")"
   ]
  },
  {
   "cell_type": "code",
   "execution_count": 3,
   "metadata": {},
   "outputs": [
    {
     "name": "stdout",
     "output_type": "stream",
     "text": [
      "{'batman': 100, 'ironman': 100}\n"
     ]
    }
   ],
   "source": [
    "all_filenames = []\n",
    "for file in os.listdir(\"dataset/images\"):\n",
    "    if file.endswith(\".jpg\"):\n",
    "        all_filenames.append(file.replace(\".jpg\", \"\"))\n",
    "\n",
    "file_counter = {}\n",
    "file_group = {}\n",
    "for name in all_filenames:\n",
    "    label = name.split(\"_\")[0]\n",
    "    try :\n",
    "        file_counter[label] += 1\n",
    "        file_group[label].append(name)\n",
    "    except :\n",
    "        file_counter[label] = 1\n",
    "        file_group[label] = []\n",
    "        file_group[label].append(name)\n",
    "        \n",
    "print(file_counter)\n",
    "        \n",
    "for label in file_counter:\n",
    "    n_split = int(file_counter[label]*split_size)\n",
    "    for i, name in enumerate(file_group[label]) :\n",
    "        if i < n_split :\n",
    "            shutil.move(\"dataset/images/\" + name + \".jpg\", \"dataset/images/test\")\n",
    "            shutil.move(\"dataset/images/\" + name + \".txt\", \"dataset/images/test\")\n",
    "        else :\n",
    "            shutil.move(\"dataset/images/\" + name + \".jpg\", \"dataset/images/train\")\n",
    "            shutil.move(\"dataset/images/\" + name + \".txt\", \"dataset/images/train\")        "
   ]
  },
  {
   "cell_type": "markdown",
   "metadata": {},
   "source": [
    "# Create Label Map data\n",
    "- label map structure (`.names`) -> for **Darknet** training phase (Colab):\n",
    "    ```\n",
    "    batman\n",
    "    ironman\n",
    "    xxxx\n",
    "    ```\n",
    "- label map structure (`.json`) -> for inference phase in Jetson Nano (**OpenCV DNN**):\n",
    "    ```\n",
    "    {\n",
    "    \"0\" : \"batman\",\n",
    "    \"1\" : \"ironman\",\n",
    "    \"2\" : \"xxxx\"\n",
    "    }\n",
    "    ```"
   ]
  },
  {
   "cell_type": "code",
   "execution_count": 4,
   "metadata": {},
   "outputs": [],
   "source": [
    "import json\n",
    "\n",
    "# create label map pbtxt \n",
    "with open(\"dataset/data/object-detection.names\", \"w\") as fw:\n",
    "    for i, name in enumerate(file_counter, start=1) :\n",
    "        fw.write('%s\\n' % name)\n",
    "\n",
    "# create label map json \n",
    "label_json = {}      \n",
    "for i, name in enumerate(file_counter, start=0):\n",
    "    label_json[str(i)] = name\n",
    "    \n",
    "with open(\"object-detection.json\", 'w') as f:\n",
    "    json.dump(label_json, f)"
   ]
  },
  {
   "cell_type": "markdown",
   "metadata": {},
   "source": [
    "# Edit Label Id (not mandatory) \n",
    "- Use this script if **label id** is **wrong** in yolo annotation file `train/<filename>.txt` or `test/<filename>.txt`"
   ]
  },
  {
   "cell_type": "code",
   "execution_count": 11,
   "metadata": {},
   "outputs": [],
   "source": [
    "import os\n",
    "import json\n",
    "\n",
    "labels = {}\n",
    "with open(\"object-detection.json\") as f:\n",
    "    label_map = json.load(f)\n",
    "    for key in label_map :\n",
    "        labels[label_map[key]] = key\n",
    "\n",
    "for folder in ['test', 'train']:\n",
    "    for file in os.listdir(\"dataset/images/%s\" % folder):\n",
    "        if file.endswith(\".txt\") :\n",
    "            with open(\"dataset/images/%s/%s\" % (folder, file), 'r') as f:\n",
    "                text = f.readlines() \n",
    "                f.close()\n",
    "            text = [labels[file.split(\"_\")[0]] + \" \" + \" \".join(t.split(\" \")[1:]) for t in text]\n",
    "            with open(\"dataset/images/%s/%s\" % (folder, file), 'w') as f1:\n",
    "                f1.writelines(text)\n",
    "                f1.close()"
   ]
  },
  {
   "cell_type": "markdown",
   "metadata": {},
   "source": [
    "# Zip Dataset directory"
   ]
  },
  {
   "cell_type": "code",
   "execution_count": 17,
   "metadata": {},
   "outputs": [],
   "source": [
    "import zipfile"
   ]
  },
  {
   "cell_type": "code",
   "execution_count": 18,
   "metadata": {},
   "outputs": [
    {
     "name": "stdout",
     "output_type": "stream",
     "text": [
      "`dataset.zip` created successfully!\n"
     ]
    }
   ],
   "source": [
    "def zipdir(path, ziph):\n",
    "    for root, dirs, files in os.walk(path):\n",
    "        for file in files:\n",
    "            ziph.write(os.path.join(root, file), os.path.relpath(os.path.join(root, file), os.path.join(path, '..')))\n",
    "\n",
    "zipf = zipfile.ZipFile('dataset.zip', 'w', zipfile.ZIP_DEFLATED)\n",
    "zipdir('dataset/', zipf)\n",
    "zipf.close()\n",
    "\n",
    "print(\"`dataset.zip` created successfully!\")"
   ]
  },
  {
   "cell_type": "markdown",
   "metadata": {},
   "source": [
    "# Run Darknet - Yolo Training in Colab"
   ]
  },
  {
   "cell_type": "markdown",
   "metadata": {},
   "source": [
    "- Open Google Colab : https://colab.research.google.com/notebooks/intro.ipynb#recent=true\n",
    "- Click tab **Upload**,\n",
    "- Upload `Training Darknet - Yolo using Custom Dataset.ipynb` to google colab"
   ]
  },
  {
   "cell_type": "code",
   "execution_count": 8,
   "metadata": {},
   "outputs": [],
   "source": []
  },
  {
   "cell_type": "code",
   "execution_count": null,
   "metadata": {},
   "outputs": [],
   "source": []
  }
 ],
 "metadata": {
  "kernelspec": {
   "display_name": "Python [conda env:CVDL]",
   "language": "python",
   "name": "conda-env-CVDL-py"
  },
  "language_info": {
   "codemirror_mode": {
    "name": "ipython",
    "version": 3
   },
   "file_extension": ".py",
   "mimetype": "text/x-python",
   "name": "python",
   "nbconvert_exporter": "python",
   "pygments_lexer": "ipython3",
   "version": "3.6.12"
  }
 },
 "nbformat": 4,
 "nbformat_minor": 4
}
